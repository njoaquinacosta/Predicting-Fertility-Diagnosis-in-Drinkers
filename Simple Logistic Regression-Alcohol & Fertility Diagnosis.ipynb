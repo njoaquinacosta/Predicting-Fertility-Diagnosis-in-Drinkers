{
 "cells": [
  {
   "cell_type": "code",
   "execution_count": 2,
   "metadata": {
    "collapsed": true
   },
   "outputs": [],
   "source": [
    "%matplotlib inline"
   ]
  },
  {
   "cell_type": "code",
   "execution_count": 3,
   "metadata": {
    "collapsed": true
   },
   "outputs": [],
   "source": [
    "import io\n",
    "import matplotlib.pyplot as plt\n",
    "import pandas as pd\n",
    "import numpy as np\n",
    "import scipy.stats\n",
    "import scipy.special\n",
    "import seaborn as sns\n",
    "sns.set_style('white')\n",
    "sns.set_context('notebook')"
   ]
  },
  {
   "cell_type": "code",
   "execution_count": 4,
   "metadata": {},
   "outputs": [
    {
     "data": {
      "text/html": [
       "<div>\n",
       "<style>\n",
       "    .dataframe thead tr:only-child th {\n",
       "        text-align: right;\n",
       "    }\n",
       "\n",
       "    .dataframe thead th {\n",
       "        text-align: left;\n",
       "    }\n",
       "\n",
       "    .dataframe tbody tr th {\n",
       "        vertical-align: top;\n",
       "    }\n",
       "</style>\n",
       "<table border=\"1\" class=\"dataframe\">\n",
       "  <thead>\n",
       "    <tr style=\"text-align: right;\">\n",
       "      <th></th>\n",
       "      <th>Alcohol Consumption (frequency)</th>\n",
       "      <th>FertilityDiagnosis</th>\n",
       "    </tr>\n",
       "  </thead>\n",
       "  <tbody>\n",
       "    <tr>\n",
       "      <th>0</th>\n",
       "      <td>0.8</td>\n",
       "      <td>False</td>\n",
       "    </tr>\n",
       "    <tr>\n",
       "      <th>1</th>\n",
       "      <td>0.8</td>\n",
       "      <td>True</td>\n",
       "    </tr>\n",
       "    <tr>\n",
       "      <th>2</th>\n",
       "      <td>1.0</td>\n",
       "      <td>False</td>\n",
       "    </tr>\n",
       "    <tr>\n",
       "      <th>3</th>\n",
       "      <td>1.0</td>\n",
       "      <td>False</td>\n",
       "    </tr>\n",
       "    <tr>\n",
       "      <th>4</th>\n",
       "      <td>0.8</td>\n",
       "      <td>True</td>\n",
       "    </tr>\n",
       "    <tr>\n",
       "      <th>5</th>\n",
       "      <td>0.8</td>\n",
       "      <td>False</td>\n",
       "    </tr>\n",
       "    <tr>\n",
       "      <th>6</th>\n",
       "      <td>0.8</td>\n",
       "      <td>False</td>\n",
       "    </tr>\n",
       "    <tr>\n",
       "      <th>7</th>\n",
       "      <td>0.6</td>\n",
       "      <td>False</td>\n",
       "    </tr>\n",
       "    <tr>\n",
       "      <th>8</th>\n",
       "      <td>0.8</td>\n",
       "      <td>False</td>\n",
       "    </tr>\n",
       "    <tr>\n",
       "      <th>9</th>\n",
       "      <td>1.0</td>\n",
       "      <td>False</td>\n",
       "    </tr>\n",
       "  </tbody>\n",
       "</table>\n",
       "</div>"
      ],
      "text/plain": [
       "   Alcohol Consumption (frequency)  FertilityDiagnosis\n",
       "0                              0.8               False\n",
       "1                              0.8                True\n",
       "2                              1.0               False\n",
       "3                              1.0               False\n",
       "4                              0.8                True\n",
       "5                              0.8               False\n",
       "6                              0.8               False\n",
       "7                              0.6               False\n",
       "8                              0.8               False\n",
       "9                              1.0               False"
      ]
     },
     "execution_count": 4,
     "metadata": {},
     "output_type": "execute_result"
    }
   ],
   "source": [
    "\"\"\"\n",
    "\n",
    "PROBLEM STATEMENT:\n",
    "\n",
    "What impact does alcohol consumption have on the fertility diagnoses (sperm concentration) \n",
    "of males (keeping in mind that sperm concentration are related to socio-demographic and \n",
    "environmental factors, health status, as well as habits accosicated with individual lifestyle)?\n",
    "\"\"\"\n",
    "\n",
    "##################################################################################################\n",
    "##################################################################################################\n",
    "\n",
    "\"\"\"Stripped down dataset to include just relevant data: alcohol consumption and diagnosis outcome.\"\"\"\n",
    "\n",
    "data = \"\"\"Alcohol Consumption (frequency)\tFertilityDiagnosis\n",
    "0.8\tN\n",
    "0.8\tO\n",
    "1\tN\n",
    "1\tN\n",
    "0.8\tO\n",
    "0.8\tN\n",
    "0.8\tN\n",
    "0.6\tN\n",
    "0.8\tN\n",
    "1\tN\n",
    "0.8\tN\n",
    "0.6\tN\n",
    "0.8\tN\n",
    "1\tN\n",
    "0.2\tN\n",
    "1\tN\n",
    "1\tN\n",
    "0.8\tO\n",
    "1\tN\n",
    "0.8\tO\n",
    "0.8\tN\n",
    "0.6\tN\n",
    "0.8\tN\n",
    "1\tO\n",
    "1\tN\n",
    "1\tN\n",
    "0.6\tO\n",
    "0.6\tO\n",
    "1\tN\n",
    "0.6\tO\n",
    "1\tN\n",
    "1\tN\n",
    "1\tN\n",
    "0.8\tN\n",
    "1\tN\n",
    "0.6\tN\n",
    "1\tN\n",
    "1\tN\n",
    "0.6\tO\n",
    "1\tN\n",
    "0.8\tN\n",
    "0.8\tN\n",
    "0.8\tN\n",
    "1\tN\n",
    "1\tN\n",
    "1\tN\n",
    "1\tN\n",
    "0.6\tN\n",
    "0.8\tN\n",
    "0.6\tN\n",
    "0.8\tN\n",
    "1\tN\n",
    "0.8\tN\n",
    "0.8\tN\n",
    "1\tN\n",
    "0.8\tN\n",
    "0.8\tN\n",
    "1\tN\n",
    "0.4\tN\n",
    "0.8\tN\n",
    "0.8\tN\n",
    "1\tN\n",
    "0.6\tN\n",
    "1\tN\n",
    "0.8\tN\n",
    "1\tN\n",
    "0.8\tN\n",
    "1\tN\n",
    "0.8\tN\n",
    "0.8\tN\n",
    "0.8\tO\n",
    "1\tN\n",
    "0.6\tN\n",
    "0.8\tN\n",
    "0.8\tN\n",
    "1\tN\n",
    "0.6\tN\n",
    "0.8\tN\n",
    "0.8\tN\n",
    "0.6\tN\n",
    "1\tN\n",
    "0.8\tN\n",
    "0.6\tN\n",
    "1\tN\n",
    "1\tO\n",
    "0.6\tN\n",
    "0.6\tN\n",
    "0.8\tN\n",
    "1\tN\n",
    "1\tN\n",
    "0.8\tN\n",
    "1\tN\n",
    "0.8\tN\n",
    "0.8\tO\n",
    "0.6\tN\n",
    "1\tN\n",
    "0.8\tN\n",
    "1\tN\n",
    "1\tN\n",
    "0.6\tN\n",
    "\"\"\"\n",
    "df = pd.read_table(io.StringIO(data))\n",
    "df.FertilityDiagnosis = df.FertilityDiagnosis == 'O'\n",
    "df.head(10)"
   ]
  },
  {
   "cell_type": "code",
   "execution_count": 5,
   "metadata": {},
   "outputs": [
    {
     "data": {
      "image/png": "[encoded data removed]",
      "text/plain": [
       "<matplotlib.figure.Figure at 0x2b3babdb240>"
      ]
     },
     "metadata": {},
     "output_type": "display_data"
    }
   ],
   "source": [
    "\"\"\"\n",
    "\n",
    "Frequency of alcohol consumption is measured (0, 1) with the following criteria: \n",
    "    \n",
    "    1. Several times a day\n",
    "    2. Every day\n",
    "    3. Several times a week\n",
    "    4. Once a week\n",
    "    5. Hardly ever or never\n",
    "    \n",
    "\n",
    "Fertility Output s as follows: \n",
    "    \n",
    "    1. Diagnosis normal (N)\n",
    "    2. Altered (by the aforementioned factor) (O) \n",
    "\n",
    "\"\"\"\n",
    "\"\"\"Plot the Data\"\"\"\n",
    "\n",
    "df.plot.scatter('Alcohol Consumption (frequency)', 'FertilityDiagnosis')\n",
    "plt.ylabel('Impact On Fertility Diagnosis')\n",
    "sns.despine()"
   ]
  },
  {
   "cell_type": "code",
   "execution_count": 6,
   "metadata": {
    "collapsed": true
   },
   "outputs": [],
   "source": [
    "import sklearn.linear_model"
   ]
  },
  {
   "cell_type": "code",
   "execution_count": 7,
   "metadata": {},
   "outputs": [
    {
     "name": "stdout",
     "output_type": "stream",
     "text": [
      "[-0.03588022] [[-2.42830288]]\n"
     ]
    }
   ],
   "source": [
    "\"\"\"\n",
    "Address unpenalized OLS, etc. associated with regression. \n",
    "C=1e12 is effectively no regularization - see https://github.com/scikit-learn/scikit-learn/issues/6738.\n",
    "\"\"\"\n",
    "\n",
    "clf = sklearn.linear_model.LogisticRegression(C=1e12, random_state=0)\n",
    "clf.fit(df['Alcohol Consumption (frequency)'].values.reshape(-1, 1), df['FertilityDiagnosis'])\n",
    "print(clf.intercept_, clf.coef_)"
   ]
  },
  {
   "cell_type": "code",
   "execution_count": 8,
   "metadata": {
    "collapsed": true
   },
   "outputs": [],
   "source": [
    "def plot_log_reg(x, y, data, clf, xmin=None, xmax=None, alpha=1, ax=None):\n",
    "    if ax is None:\n",
    "        fig, ax = plt.subplots()\n",
    "    else:\n",
    "        fig = ax.figure\n",
    "    ax.scatter(data[x], data[y], color='black', zorder=20, alpha=alpha)\n",
    "    if xmin is None:\n",
    "        xmin = x.min()\n",
    "    if xmax is None:\n",
    "        xmax = x.max()\n",
    "    X_test = np.linspace(xmin, xmax, 300)\n",
    "\n",
    "    loss = scipy.special.expit(X_test * clf.coef_ + clf.intercept_).ravel()\n",
    "    ax.plot(X_test, loss, linewidth=3)\n",
    "\n",
    "    ax.set_xlabel(x)\n",
    "    ax.set_ylabel(y)\n",
    "    fig.tight_layout()\n",
    "    sns.despine()\n",
    "    return fig, ax"
   ]
  },
  {
   "cell_type": "code",
   "execution_count": 9,
   "metadata": {},
   "outputs": [
    {
     "data": {
      "image/png": "[encoded data removed]",
      "text/plain": [
       "<matplotlib.figure.Figure at 0x2b3bfa570b8>"
      ]
     },
     "metadata": {},
     "output_type": "display_data"
    }
   ],
   "source": [
    "\"\"\"Plot Data\"\"\"\n",
    "\n",
    "plot_log_reg(x='Alcohol Consumption (frequency)', y='FertilityDiagnosis', data=df, clf=clf, xmin=0, xmax=1.5);"
   ]
  },
  {
   "cell_type": "code",
   "execution_count": 10,
   "metadata": {
    "collapsed": true
   },
   "outputs": [],
   "source": [
    "def log_reg_null_model(y):\n",
    "    clf = sklearn.linear_model.LogisticRegression(C=1e12)\n",
    "    clf.fit(np.zeros_like(y).reshape(-1, 1), y)\n",
    "    return clf\n",
    "\n",
    "clf0 = log_reg_null_model(df['FertilityDiagnosis'])"
   ]
  },
  {
   "cell_type": "code",
   "execution_count": 11,
   "metadata": {
    "collapsed": true
   },
   "outputs": [],
   "source": [
    "import sklearn.metrics"
   ]
  },
  {
   "cell_type": "code",
   "execution_count": 12,
   "metadata": {
    "collapsed": true
   },
   "outputs": [],
   "source": [
    "def log_reg_lik_ratio_test(X, Y, clf0, clf1, df=1):\n",
    "    if X.ndim == 1:\n",
    "        X = X.values.reshape(-1, 1)\n",
    "    y_prob0 = clf0.predict_proba(X)\n",
    "    loss0 = sklearn.metrics.log_loss(Y, y_prob0, normalize=False)\n",
    "    y_prob1 = clf1.predict_proba(X)\n",
    "    loss1 = sklearn.metrics.log_loss(Y, y_prob1, normalize=False)\n",
    "    D = 2 * (loss0 - loss1)\n",
    "    return scipy.stats.distributions.chi2.sf(D, df=df)"
   ]
  },
  {
   "cell_type": "code",
   "execution_count": 13,
   "metadata": {},
   "outputs": [
    {
     "data": {
      "text/plain": [
       "0.16248345977701148"
      ]
     },
     "execution_count": 13,
     "metadata": {},
     "output_type": "execute_result"
    }
   ],
   "source": [
    "log_reg_lik_ratio_test(df['Alcohol Consumption (frequency)'], df['FertilityDiagnosis'].astype(np.float64), clf0, clf)"
   ]
  },
  {
   "cell_type": "code",
   "execution_count": 14,
   "metadata": {},
   "outputs": [
    {
     "name": "stdout",
     "output_type": "stream",
     "text": [
      "35.7170192231 35.7170192231\n"
     ]
    }
   ],
   "source": [
    "_ = clf.predict_proba(df['Alcohol Consumption (frequency)'].values.reshape(-1, 1))\n",
    "df['prob_absent'], df['prob_present'] = _[:,0], _[:,1]\n",
    "lik = df.loc[df['FertilityDiagnosis'], 'prob_present'].prod() * df.loc[~df['FertilityDiagnosis'], 'prob_absent'].prod()\n",
    "print(\n",
    "    -np.log(lik), \n",
    "    sklearn.metrics.log_loss(\n",
    "        df['FertilityDiagnosis'], \n",
    "        clf.predict_proba(df['Alcohol Consumption (frequency)'].values.reshape(-1, 1)), \n",
    "        normalize=False\n",
    "    )\n",
    ")"
   ]
  },
  {
   "cell_type": "code",
   "execution_count": null,
   "metadata": {
    "collapsed": true
   },
   "outputs": [],
   "source": [
    "\"\"\"\n",
    "CONCLUSIONS:\n",
    "\n",
    "The frequency of alcohol consumption has no particular bearing on the fertility diagnois (sperm concentration) in males.\n",
    "\n",
    "###############################################################################\n",
    "\n",
    "Predicting Fertility Diagnosis in Drinkers\n",
    "\n",
    "Abstract: \n",
    "\n",
    "100 volunteers provide a semen sample analyzed according to the WHO 2010 criteria. Sperm concentration are related to socio-demographic data, environmental factors, health status, and life habits.\n",
    "Problem Statement: \n",
    "What impact does alcohol consumption have on the fertility diagnoses (sperm concentration) of males (keeping in mind that sperm concentration are related to socio-demographic and environmental factors, health status, as well as habits accosicated with individual lifestyle)?\n",
    "\n",
    "###############################################################################\n",
    "\n",
    "Data Set Information:\n",
    "\n",
    "The data associated with this analysis (http://archive.ics.uci.edu/ml/datasets/Fertility) contains the following information:\n",
    "0. Season in which the analysis was performed. 1) winter, 2) spring, 3) Summer, 4) fall. (-1, -0.33, 0.33, 1)\n",
    "1. Age at the time of analysis. 18-36 (0, 1)\n",
    "2. Childish diseases (ie , chicken pox, measles, mumps, polio) 1) yes, 2) no. (0, 1)\n",
    "3. Accident or serious trauma 1) yes, 2) no. (0, 1)\n",
    "4. Surgical intervention 1) yes, 2) no. (0, 1)\n",
    "5. High fevers in the last year 1) less than three months ago, 2) more than three months ago, 3) no. (-1, 0, 1)\n",
    "6. Frequency of alcohol consumption 1) several times a day, 2) every day, 3) several times a week, 4) once a week, 5) hardly ever or never (0, 1)\n",
    "7. Smoking habit 1) never, 2) occasional 3) daily. (-1, 0, 1)\n",
    "8. Number of hours spent sitting per day ene-16 (0, 1)\n",
    "9. Output: Diagnosis normal (N), altered (O) \n",
    "\n",
    "###############################################################################\n",
    "\n",
    "Relevant Papers:\n",
    "\n",
    "David Gil, Jose Luis Girela, Joaquin De Juan, M. Jose Gomez-Torres, and\n",
    "Magnus Johnsson. Predicting seminal quality with artificial intelligence\n",
    "methods. Expert Systems with Applications, 39(16):12564 - 12573, 2012.\n",
    "\n",
    "###############################################################################\n",
    "\n",
    "Citations:\n",
    "\n",
    "David Gil, Jose Luis Girela, Joaquin De Juan, M. Jose Gomez-Torres, and\n",
    "Magnus Johnsson. Predicting seminal quality with artificial intelligence\n",
    "methods. Expert Systems with Applications, 39(16):12564 - 12573, 2012.\n",
    "\n",
    "\"\"\""
   ]
  }
 ],
 "metadata": {
  "kernelspec": {
   "display_name": "Python 3",
   "language": "python",
   "name": "python3"
  },
  "language_info": {
   "codemirror_mode": {
    "name": "ipython",
    "version": 3
   },
   "file_extension": ".py",
   "mimetype": "text/x-python",
   "name": "python",
   "nbconvert_exporter": "python",
   "pygments_lexer": "ipython3",
   "version": "3.6.1"
  }
 },
 "nbformat": 4,
 "nbformat_minor": 2
}
